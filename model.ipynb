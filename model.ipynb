{
  "nbformat": 4,
  "nbformat_minor": 0,
  "metadata": {
    "colab": {
      "provenance": []
    },
    "kernelspec": {
      "name": "python3",
      "display_name": "Python 3"
    },
    "language_info": {
      "name": "python"
    }
  },
  "cells": [
    {
      "cell_type": "code",
      "execution_count": 21,
      "metadata": {
        "id": "HcV0pLdZrHL3"
      },
      "outputs": [],
      "source": [
        "import numpy as np\n",
        "import pandas as pd\n",
        "\n",
        "import tensorflow as tf\n",
        "from tensorflow import keras\n",
        "from tensorflow.keras import layers\n",
        "from tensorflow.keras.preprocessing.image import ImageDataGenerator"
      ]
    },
    {
      "cell_type": "code",
      "source": [
        "Image_Width = 256\n",
        "Image_Height = 256\n",
        "Image_Size = (Image_Width, Image_Height)"
      ],
      "metadata": {
        "id": "IftMDRuj9JAP"
      },
      "execution_count": 22,
      "outputs": []
    },
    {
      "cell_type": "code",
      "source": [
        "train_datagen = ImageDataGenerator(\n",
        "    rescale=1.0/255, # Normalize pixel values\n",
        "    rotation_range=20, # Rotate images randomly up to 20 degrees\n",
        "    horizontal_flip=True, # Flip images horizontally\n",
        "    vertical_flip=False, # Do not flip images vertically\n",
        "    zoom_range=0.2, # Zoom in randomly up to 20%\n",
        ")\n",
        "\n",
        "train_data = train_datagen.flow_from_directory(\n",
        "    './train/',\n",
        "    target_size=(256, 256),\n",
        "    batch_size=32,\n",
        "    class_mode='categorical'\n",
        ")"
      ],
      "metadata": {
        "id": "Fw4J9y9PrQ4F",
        "colab": {
          "base_uri": "https://localhost:8080/"
        },
        "outputId": "2aca2bd0-c5b7-4fda-c5bc-4687feccb08e"
      },
      "execution_count": 23,
      "outputs": [
        {
          "output_type": "stream",
          "name": "stdout",
          "text": [
            "Found 312 images belonging to 3 classes.\n"
          ]
        }
      ]
    },
    {
      "cell_type": "code",
      "source": [
        "test_datagen = ImageDataGenerator(rescale=1./255)\n",
        "test_data = test_datagen.flow_from_directory('./test/',\n",
        "                                                  target_size=Image_Size,\n",
        "                                                  batch_size = 32,\n",
        "                                                  class_mode='categorical')"
      ],
      "metadata": {
        "id": "veK1ZS7O85D1",
        "colab": {
          "base_uri": "https://localhost:8080/"
        },
        "outputId": "ad0851d6-227b-4873-d2cd-97bf6c2cc1c3"
      },
      "execution_count": 24,
      "outputs": [
        {
          "output_type": "stream",
          "name": "stdout",
          "text": [
            "Found 300 images belonging to 3 classes.\n"
          ]
        }
      ]
    },
    {
      "cell_type": "code",
      "source": [
        "print(train_data.class_indices)"
      ],
      "metadata": {
        "colab": {
          "base_uri": "https://localhost:8080/"
        },
        "id": "vW8Oia5jAYDX",
        "outputId": "4591f806-d5bd-46c3-d7db-f7f50a45fc67"
      },
      "execution_count": 19,
      "outputs": [
        {
          "output_type": "stream",
          "name": "stdout",
          "text": [
            "{'.ipynb_checkpoints': 0, 'forged': 1, 'genuine': 2}\n"
          ]
        }
      ]
    },
    {
      "cell_type": "code",
      "source": [
        "print(test_data.class_indices)"
      ],
      "metadata": {
        "colab": {
          "base_uri": "https://localhost:8080/"
        },
        "id": "qOBcebRxAdku",
        "outputId": "37ca1ea1-1f1b-459c-9509-8b16fe98c145"
      },
      "execution_count": 20,
      "outputs": [
        {
          "output_type": "stream",
          "name": "stdout",
          "text": [
            "{'.ipynb_checkpoints': 0, 'forged': 1, 'genuine': 2}\n"
          ]
        }
      ]
    },
    {
      "cell_type": "code",
      "source": [
        "model = tf.keras.models.Sequential()\n"
      ],
      "metadata": {
        "id": "2ydgbN6uA10n"
      },
      "execution_count": null,
      "outputs": []
    }
  ]
}