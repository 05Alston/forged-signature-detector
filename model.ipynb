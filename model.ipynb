{
  "nbformat": 4,
  "nbformat_minor": 0,
  "metadata": {
    "colab": {
      "provenance": []
    },
    "kernelspec": {
      "name": "python3",
      "display_name": "Python 3"
    },
    "language_info": {
      "name": "python"
    }
  },
  "cells": [
    {
      "cell_type": "code",
      "execution_count": 27,
      "metadata": {
        "id": "HcV0pLdZrHL3"
      },
      "outputs": [],
      "source": [
        "import os\n",
        "import numpy as np\n",
        "import cv2\n",
        "from tqdm import tqdm\n",
        "from google.colab.patches import cv2_imshow\n",
        "import matplotlib.pyplot as plt\n",
        "import itertools\n",
        "import random\n",
        "from sklearn.utils import shuffle\n",
        "from keras import layers\n",
        "from keras import models\n",
        "from keras import backend as K"
      ]
    },
    {
      "cell_type": "code",
      "source": [
        "def get_data(dir):\n",
        "    orig = []\n",
        "    forg = []\n",
        "    for name in tqdm(sorted(os.listdir(dir))):\n",
        "        original = []\n",
        "        forged = []\n",
        "        for image_name in sorted(os.listdir(dir+'/'+name)):\n",
        "            img = dir+'/'+name+'/'+image_name\n",
        "            if 'forg' in name.lower():\n",
        "                forged.append(img)\n",
        "            else:\n",
        "                original.append(img)\n",
        "        \n",
        "        if 'forg' in name.lower():\n",
        "            forg.append(forged)\n",
        "        else:\n",
        "            orig.append(original)\n",
        "    \n",
        "    return orig, forg"
      ],
      "metadata": {
        "id": "g49ti9_kWwHh"
      },
      "execution_count": 28,
      "outputs": []
    },
    {
      "cell_type": "code",
      "source": [
        "train_orig, train_forg = get_data('train_data')\n",
        "# validation_orig, validation_forg = get_data('validation_data')\n",
        "test_orig, test_forg = get_data('test_data')"
      ],
      "metadata": {
        "id": "IftMDRuj9JAP"
      },
      "execution_count": 29,
      "outputs": []
    },
    {
      "cell_type": "code",
      "source": [
        "print(len(train_orig))\n",
        "print(len(train_forg))\n",
        "print(len(test_orig))\n",
        "print(len(test_forg))"
      ],
      "metadata": {
        "id": "D8vYjr9rnNGD"
      },
      "execution_count": null,
      "outputs": []
    },
    {
      "cell_type": "code",
      "source": [
        "def euclidean_distance(vects):\n",
        "    '''Compute Euclidean Distance between two vectors'''\n",
        "    x, y = vects\n",
        "    return K.sqrt(K.sum(K.square(x - y), axis=1, keepdims=True))\n",
        "     \n",
        "\n",
        "def eucl_dist_output_shape(shapes):\n",
        "    shape1, shape2 = shapes\n",
        "    return (shape1[0], 1)"
      ],
      "metadata": {
        "id": "qBKhhhmAojE0"
      },
      "execution_count": null,
      "outputs": []
    }
  ]
}