{
  "cells": [
    {
      "cell_type": "markdown",
      "source": [
        "<a target=\"_blank\" href=\"https://colab.research.google.com/github/05Alston/forged-signature-detector/blob/main/model.ipynb\">\n",
        "  <img src=\"https://colab.research.google.com/assets/colab-badge.svg\" alt=\"Open In Colab\"/>\n",
        "</a>"
      ],
      "metadata": {
        "id": "2Lb_8Jmmk9KU"
      }
    },
    {
      "cell_type": "code",
      "execution_count": null,
      "metadata": {
        "id": "S4mdGUYnUEay"
      },
      "outputs": [],
      "source": [
        "!rm -fr sample_data\n",
        "!rm -fr test_data\n",
        "!rm -fr train_data\n",
        "!rm -fr validation_data"
      ]
    },
    {
      "cell_type": "code",
      "execution_count": null,
      "metadata": {
        "colab": {
          "base_uri": "https://localhost:8080/"
        },
        "id": "-3nOen-wUJGk",
        "outputId": "ac43cc43-cecb-46d8-b4dd-f768337a06ac"
      },
      "outputs": [
        {
          "output_type": "stream",
          "name": "stdout",
          "text": [
            "Mounted at /content/drive\n"
          ]
        }
      ],
      "source": [
        "from google.colab import drive\n",
        "drive.mount('/content/drive')"
      ]
    },
    {
      "cell_type": "code",
      "execution_count": null,
      "metadata": {
        "colab": {
          "base_uri": "https://localhost:8080/"
        },
        "id": "fxGkBE5kT-0x",
        "outputId": "45a5ca99-ac4b-4b33-fe28-cb8a1802cfa6"
      },
      "outputs": [
        {
          "output_type": "stream",
          "name": "stderr",
          "text": [
            "100%|██████████| 60/60 [00:02<00:00, 28.48it/s]\n",
            "100%|██████████| 60/60 [01:24<00:00,  1.41s/it]\n"
          ]
        }
      ],
      "source": [
        "import cv2\n",
        "import os\n",
        "from tqdm import tqdm\n",
        "import random\n",
        "\n",
        "if not os.path.exists('train_data/'):\n",
        "  os.mkdir('train_data')\n",
        "if not os.path.exists('validation_data/'):\n",
        "  os.mkdir('validation_data')\n",
        "if not os.path.exists('test_data/'):\n",
        "  os.mkdir('test_data')\n",
        "\n",
        "drive_path = './drive/MyDrive/dataset/'\n",
        "\n",
        "orig_images = []\n",
        "forg_images = []\n",
        "for name in tqdm(sorted(os.listdir(drive_path+'train/'))):\n",
        "    if 'forg' in name.lower():\n",
        "        forg_images.append(len(os.listdir(drive_path+'train/'+name)))\n",
        "    else:\n",
        "        orig_images.append(len(os.listdir(drive_path+'train/'+name)))\n",
        "\n",
        "num_orig = min(orig_images)\n",
        "num_forg = min(forg_images)\n",
        "tot_people = len(os.listdir(drive_path+'train/'))//2\n",
        "\n",
        "num_train = 100\n",
        "num_validation = 20\n",
        "num_test = 40\n",
        "for name in tqdm(sorted(os.listdir(drive_path+'train/'))):\n",
        "    if num_train > 0:\n",
        "        if not os.path.exists('train_data/'+name):\n",
        "          os.mkdir('train_data/'+name)\n",
        "        if 'forg' in name.lower():\n",
        "            i = num_forg\n",
        "        else:\n",
        "            i = num_orig\n",
        "        for image_name in sorted(os.listdir(drive_path+'train/'+name)):\n",
        "            if i <= 0:\n",
        "                break\n",
        "            img = cv2.imread(drive_path+'train/'+name+'/'+image_name)\n",
        "            img_gray = cv2.cvtColor(img, cv2.COLOR_BGR2GRAY)\n",
        "            img_resized = cv2.resize(img_gray, (730, 376))\n",
        "            cv2.imwrite('train_data/'+name+'/'+image_name, img_resized)\n",
        "            i -= 1\n",
        "        num_train -= 1\n",
        "    if num_validation > 0 and random.randint(0,1) == 1:\n",
        "        if not os.path.exists('validation_data/'+name):\n",
        "          os.mkdir('validation_data/'+name)\n",
        "        if 'forg' in name.lower():\n",
        "            i = num_forg\n",
        "        else:\n",
        "            i = num_orig\n",
        "        for image_name in sorted(os.listdir(drive_path+'train/'+name)):\n",
        "            if i <= 0:\n",
        "                break\n",
        "            img = cv2.imread(drive_path+'train/'+name+'/'+image_name)\n",
        "            img_gray = cv2.cvtColor(img, cv2.COLOR_BGR2GRAY)\n",
        "            img_resized = cv2.resize(img_gray, (730, 376))\n",
        "            cv2.imwrite('validation_data/'+name+'/'+image_name,\n",
        "                        img_resized)\n",
        "            i -= 1\n",
        "        num_validation -= 1\n",
        "    if num_test > 0:\n",
        "        if not os.path.exists('test_data/'+name):\n",
        "          os.mkdir('test_data/'+name)\n",
        "        if 'forg' in name.lower():\n",
        "            i = num_forg\n",
        "        else:\n",
        "            i = num_orig\n",
        "        for image_name in sorted(os.listdir(drive_path+'test/'+name)):\n",
        "            if i <= 0:\n",
        "                break\n",
        "            img = cv2.imread(drive_path+'test/'+name+'/'+image_name)\n",
        "            img_gray = cv2.cvtColor(img, cv2.COLOR_BGR2GRAY)\n",
        "            img_resized = cv2.resize(img_gray, (730, 376))\n",
        "            cv2.imwrite('test_data/'+name+'/'+image_name, img_resized)\n",
        "            i -= 1\n",
        "        num_test -= 1\n"
      ]
    },
    {
      "cell_type": "code",
      "execution_count": null,
      "metadata": {
        "id": "HcV0pLdZrHL3"
      },
      "outputs": [],
      "source": [
        "import os\n",
        "import numpy as np\n",
        "import cv2\n",
        "from tqdm import tqdm\n",
        "import matplotlib.pyplot as plt\n",
        "import itertools\n",
        "import random\n",
        "from sklearn.utils import shuffle\n",
        "from keras import layers, models, optimizers, callbacks\n",
        "from keras import backend as K"
      ]
    },
    {
      "cell_type": "code",
      "execution_count": null,
      "metadata": {
        "id": "g49ti9_kWwHh"
      },
      "outputs": [],
      "source": [
        "def get_data(dir):\n",
        "    orig = []\n",
        "    forg = []\n",
        "    for name in tqdm(sorted(os.listdir(dir))):\n",
        "        original = []\n",
        "        forged = []\n",
        "        for image_name in sorted(os.listdir(dir+'/'+name)):\n",
        "            img = dir+'/'+name+'/'+image_name\n",
        "            if 'forg' in name.lower():\n",
        "                forged.append(img)\n",
        "            else:\n",
        "                original.append(img)\n",
        "\n",
        "        if 'forg' in name.lower():\n",
        "            forg.append(forged)\n",
        "        else:\n",
        "            orig.append(original)\n",
        "\n",
        "    return orig, forg"
      ]
    },
    {
      "cell_type": "code",
      "execution_count": null,
      "metadata": {
        "colab": {
          "base_uri": "https://localhost:8080/"
        },
        "id": "IftMDRuj9JAP",
        "outputId": "6501a9f9-d95a-43de-c333-aae038252e59"
      },
      "outputs": [
        {
          "output_type": "stream",
          "name": "stderr",
          "text": [
            "100%|██████████| 60/60 [00:00<00:00, 27132.96it/s]\n",
            "100%|██████████| 20/20 [00:00<00:00, 32463.65it/s]\n",
            "100%|██████████| 40/40 [00:00<00:00, 31184.42it/s]\n"
          ]
        }
      ],
      "source": [
        "train_orig, train_forg = get_data('train_data')\n",
        "validation_orig, validation_forg = get_data('validation_data')\n",
        "test_orig, test_forg = get_data('test_data')"
      ]
    },
    {
      "cell_type": "code",
      "execution_count": null,
      "metadata": {
        "colab": {
          "base_uri": "https://localhost:8080/"
        },
        "id": "D8vYjr9rnNGD",
        "outputId": "d476f0e6-c2ca-4a36-b9c1-25872a41b395"
      },
      "outputs": [
        {
          "name": "stdout",
          "output_type": "stream",
          "text": [
            "30\n",
            "30\n",
            "12\n",
            "8\n",
            "20\n",
            "20\n"
          ]
        }
      ],
      "source": [
        "print(len(train_orig))\n",
        "print(len(train_forg))\n",
        "print(len(validation_orig))\n",
        "print(len(validation_forg))\n",
        "print(len(test_orig))\n",
        "print(len(test_forg))"
      ]
    },
    {
      "cell_type": "code",
      "execution_count": null,
      "metadata": {
        "id": "qBKhhhmAojE0"
      },
      "outputs": [],
      "source": [
        "def euclidean_distance(vects):\n",
        "    '''\n",
        "    Compute Euclidean Distance between two vectors\n",
        "    '''\n",
        "    (featsA, featsB) = vects\n",
        "    squared_diff = K.square(featsA - featsB)\n",
        "    return K.sqrt(K.sum(squared_diff, axis=1, keepdims=True))\n",
        "\n",
        "\n",
        "def eucl_dist_output_shape(shapes):\n",
        "    shape1, shape2 = shapes\n",
        "    return (shape1[0], 1)"
      ]
    },
    {
      "cell_type": "code",
      "execution_count": null,
      "metadata": {
        "id": "nipOuukWTLKV"
      },
      "outputs": [],
      "source": [
        "def generate_batch(orig_groups, forg_groups, batch_size = 32):\n",
        "    '''\n",
        "    Function to generate a batch of data with batch_size number of data\n",
        "    points. Half of the data points will be Genuine-Genuine pairs and half\n",
        "    will be Genuine-Forged pairs\n",
        "    '''\n",
        "    while True:\n",
        "        orig_pairs = []\n",
        "        forg_pairs = []\n",
        "        gen_gen_labels = []\n",
        "        gen_for_labels = []\n",
        "        all_pairs = []\n",
        "        all_labels = []\n",
        "\n",
        "        for orig, forg in zip(orig_groups, forg_groups):\n",
        "            orig_pairs.extend(list(itertools.combinations(orig, 2)))\n",
        "            for i in range(len(orig)):\n",
        "                forg_pairs.extend(list(\n",
        "                    itertools.product(orig[i:i+1],\n",
        "                                      forg)))\n",
        "\n",
        "        gen_gen_labels = [1]*len(orig_pairs)\n",
        "        gen_for_labels = [0]*len(forg_pairs)\n",
        "\n",
        "        all_pairs = orig_pairs + forg_pairs\n",
        "        all_labels = gen_gen_labels + gen_for_labels\n",
        "        del orig_pairs, forg_pairs, gen_gen_labels, gen_for_labels\n",
        "        all_pairs, all_labels = shuffle(all_pairs, all_labels)\n",
        "\n",
        "        k = 0\n",
        "        pairs=[np.zeros((batch_size, 376, 730, 1)) for i in range(2)]\n",
        "        targets=np.zeros((batch_size,))\n",
        "        for ix, pair in enumerate(all_pairs):\n",
        "            img1 = cv2.imread(pair[0], cv2.IMREAD_GRAYSCALE)\n",
        "            img2 = cv2.imread(pair[1], cv2.IMREAD_GRAYSCALE)\n",
        "            img1 = np.array(img1, dtype = np.float64)\n",
        "            img2 = np.array(img2, dtype = np.float64)\n",
        "            img1 /= 255\n",
        "            img2 /= 255\n",
        "            img1 = img1[..., np.newaxis]\n",
        "            img2 = img2[..., np.newaxis]\n",
        "            pairs[0][k, :, :, :] = img1\n",
        "            pairs[1][k, :, :, :] = img2\n",
        "            targets[k] = all_labels[ix]\n",
        "            k += 1\n",
        "            if k == batch_size:\n",
        "                yield pairs, targets\n",
        "                k = 0\n",
        "                pairs=[np.zeros((batch_size,\n",
        "                                 376, 730, 1)) for i in range(2)]\n",
        "                targets=np.zeros((batch_size,))"
      ]
    },
    {
      "cell_type": "code",
      "execution_count": null,
      "metadata": {
        "id": "vNISYH0FTLKW"
      },
      "outputs": [],
      "source": [
        "def create_base_network_signal(input_shape):\n",
        "    '''\n",
        "    Base Siamese Network\n",
        "    '''\n",
        "\n",
        "    convnet = models.Sequential()\n",
        "    convnet.add(layers.Convolution2D(64, (3, 3), input_shape=input_shape))\n",
        "    convnet.add(layers.Activation('relu'))\n",
        "    convnet.add(layers.MaxPooling2D(pool_size=(2, 2)))\n",
        "\n",
        "    convnet.add(layers.Convolution2D(32, (3, 3)))\n",
        "    convnet.add(layers.Activation('relu'))\n",
        "    convnet.add(layers.MaxPooling2D(pool_size=(2, 2)))\n",
        "\n",
        "    # flatten\n",
        "    convnet.add(layers.Flatten())\n",
        "    convnet.add(layers.Dense(128, activation='relu'))\n",
        "    convnet.add(layers.Dense(64, activation='relu'))\n",
        "\n",
        "\n",
        "    return convnet"
      ]
    },
    {
      "cell_type": "code",
      "execution_count": null,
      "metadata": {
        "id": "cPcc81nKTLKY"
      },
      "outputs": [],
      "source": [
        "input_shape=(730, 376,1)\n",
        "base_network = create_base_network_signal(input_shape)\n",
        "\n",
        "input_a = layers.Input(shape=(input_shape))\n",
        "input_b = layers.Input(shape=(input_shape))\n",
        "\n",
        "processed_a = base_network(input_a)\n",
        "processed_b = base_network(input_b)\n",
        "\n",
        "distance = layers.Lambda(euclidean_distance,\n",
        "                         output_shape=eucl_dist_output_shape\n",
        "                         )([processed_a, processed_b])\n",
        "prediction = layers.Dense(1,\n",
        "                          activation='sigmoid'\n",
        "                          )(distance)\n",
        "earlyStopping_callback = callbacks.EarlyStopping(monitor='val_loss',\n",
        "                              min_delta=0,\n",
        "                              patience=3,\n",
        "                              verbose=1)\n",
        "model = models.Model(inputs=[input_a, input_b],\n",
        "                     outputs=prediction)"
      ]
    },
    {
      "cell_type": "code",
      "execution_count": null,
      "metadata": {
        "id": "-YwMR-hvTLKa"
      },
      "outputs": [],
      "source": [
        "model.compile(optimizer=optimizers.Adam(lr=0.00008),\n",
        "              loss='binary_crossentropy',\n",
        "              metrics=['accuracy'])"
      ]
    },
    {
      "cell_type": "code",
      "execution_count": null,
      "metadata": {
        "colab": {
          "base_uri": "https://localhost:8080/"
        },
        "id": "RzqVWrfmTLKc",
        "outputId": "c588bab6-9eec-4433-9c56-b97467bb4d10"
      },
      "outputs": [
        {
          "output_type": "stream",
          "name": "stdout",
          "text": [
            "Epoch 1/10\n",
            "120/120 [==============================] - 32s 265ms/step - loss: 0.2513 - accuracy: 0.8172 - val_loss: 0.2399 - val_accuracy: 0.8698\n",
            "Epoch 2/10\n",
            "120/120 [==============================] - 32s 265ms/step - loss: 0.2469 - accuracy: 0.8495 - val_loss: 0.2533 - val_accuracy: 0.8073\n",
            "Epoch 3/10\n",
            "120/120 [==============================] - 32s 265ms/step - loss: 0.2400 - accuracy: 0.8573 - val_loss: 0.2666 - val_accuracy: 0.8906\n",
            "Epoch 4/10\n",
            "120/120 [==============================] - 31s 257ms/step - loss: 0.2359 - accuracy: 0.8719 - val_loss: 0.2518 - val_accuracy: 0.8385\n",
            "Epoch 5/10\n",
            "120/120 [==============================] - 31s 259ms/step - loss: 0.2432 - accuracy: 0.8833 - val_loss: 0.2759 - val_accuracy: 0.9167\n",
            "Epoch 6/10\n",
            "120/120 [==============================] - 32s 264ms/step - loss: 0.2361 - accuracy: 0.8938 - val_loss: 0.2061 - val_accuracy: 0.9323\n",
            "Epoch 7/10\n",
            "120/120 [==============================] - 31s 261ms/step - loss: 0.2340 - accuracy: 0.9068 - val_loss: 0.2478 - val_accuracy: 0.9062\n",
            "Epoch 8/10\n",
            "120/120 [==============================] - 31s 258ms/step - loss: 0.2306 - accuracy: 0.9146 - val_loss: 0.2519 - val_accuracy: 0.8802\n",
            "Epoch 9/10\n",
            "120/120 [==============================] - 31s 257ms/step - loss: 0.2261 - accuracy: 0.9234 - val_loss: 0.2030 - val_accuracy: 0.9427\n",
            "Epoch 10/10\n",
            "120/120 [==============================] - 32s 265ms/step - loss: 0.2242 - accuracy: 0.9380 - val_loss: 0.2502 - val_accuracy: 0.9427\n"
          ]
        }
      ],
      "source": [
        "batch_size=16\n",
        "history = model.fit(\n",
        "    generate_batch(train_orig, train_forg, batch_size),\n",
        "                   steps_per_epoch = 120,\n",
        "                   epochs = 10,\n",
        "                   validation_data = generate_batch(validation_orig, validation_forg, batch_size),\n",
        "                   validation_steps = 12)"
      ]
    },
    {
      "cell_type": "code",
      "execution_count": null,
      "metadata": {
        "colab": {
          "base_uri": "https://localhost:8080/",
          "height": 545
        },
        "id": "an0ozGDXTLKe",
        "outputId": "50c41121-f0cd-4eeb-db36-362fbdaaad1b"
      },
      "outputs": [
        {
          "output_type": "display_data",
          "data": {
            "text/plain": [
              "<Figure size 640x480 with 1 Axes>"
            ],
            "image/png": "[encoded data removed]"
          },
          "metadata": {}
        },
        {
          "output_type": "stream",
          "name": "stdout",
          "text": [
            "Final Training Accuracy: 93.80%\n",
            "Final Validation Accuracy: 94.27%\n",
            "Training accuracy: 0.9380208253860474\n",
            "Validation accuracy: 0.9427083134651184\n"
          ]
        }
      ],
      "source": [
        "# Plot the training and validation accuracy\n",
        "plt.plot(history.history['accuracy'])\n",
        "plt.plot(history.history['val_accuracy'])\n",
        "plt.title('Model Accuracy')\n",
        "plt.ylabel('Accuracy')\n",
        "plt.xlabel('Epoch')\n",
        "plt.legend(['Train', 'Validation'], loc='upper left')\n",
        "plt.show()\n",
        "\n",
        "# Print the final training and validation accuracy\n",
        "print(\"Final Training Accuracy: {:.2f}%\".format(history.history['accuracy'][-1]*100))\n",
        "print(\"Final Validation Accuracy: {:.2f}%\".format(history.history['val_accuracy'][-1]*100))\n",
        "print(\"Training accuracy:\", history.history['accuracy'][-1])\n",
        "print(\"Validation accuracy:\", history.history['val_accuracy'][-1])"
      ]
    },
    {
      "cell_type": "code",
      "execution_count": null,
      "metadata": {
        "id": "oGQ_zuNCTLKf"
      },
      "outputs": [],
      "source": [
        "model.save('siamese-test.h5')"
      ]
    },
    {
      "cell_type": "code",
      "source": [
        "!ls -l"
      ],
      "metadata": {
        "colab": {
          "base_uri": "https://localhost:8080/"
        },
        "id": "VrV4hRBUgNvK",
        "outputId": "2a86319f-5612-4f57-e71c-80d8e327fb62"
      },
      "execution_count": null,
      "outputs": [
        {
          "output_type": "stream",
          "name": "stdout",
          "text": [
            "total 799688\n",
            "drwx------  5 root root      4096 Jun 18 16:54 drive\n",
            "-rw-r--r--  1 root root 818858216 Jun 18 17:13 siamese-test.h5\n",
            "drwxr-xr-x 42 root root      4096 Jun 18 16:55 test_data\n",
            "drwxr-xr-x 62 root root      4096 Jun 18 16:55 train_data\n",
            "drwxr-xr-x 22 root root      4096 Jun 18 16:55 validation_data\n"
          ]
        }
      ]
    }
  ],
  "metadata": {
    "accelerator": "GPU",
    "colab": {
      "provenance": [],
      "gpuType": "T4"
    },
    "kernelspec": {
      "display_name": "Python 3",
      "name": "python3"
    },
    "language_info": {
      "name": "python"
    }
  },
  "nbformat": 4,
  "nbformat_minor": 0
}