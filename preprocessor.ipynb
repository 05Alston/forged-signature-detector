{
  "nbformat": 4,
  "nbformat_minor": 0,
  "metadata": {
    "colab": {
      "provenance": []
    },
    "kernelspec": {
      "name": "python3",
      "display_name": "Python 3"
    },
    "language_info": {
      "name": "python"
    }
  },
  "cells": [
    {
      "cell_type": "code",
      "execution_count": null,
      "metadata": {
        "id": "H63hIyRzeY2m"
      },
      "outputs": [],
      "source": [
        "import cv2\n",
        "from tqdm import tqdm\n",
        "from google.colab.patches import cv2_imshow"
      ]
    },
    {
      "cell_type": "code",
      "source": [
        "os.mkdir('train_data')\n",
        "os.mkdir('validation_data')\n",
        "os.mkdir('test_data')"
      ],
      "metadata": {
        "id": "M0Ds_COpebVw"
      },
      "execution_count": null,
      "outputs": []
    },
    {
      "cell_type": "code",
      "source": [
        "orig_images = []\n",
        "forg_images = []\n",
        "for name in tqdm(sorted(os.listdir('./train'))):\n",
        "    if 'forg' in name.lower():\n",
        "        forg_images.append(len(os.listdir('./train'+name)))\n",
        "    else:\n",
        "        orig_images.append(len(os.listdir('./train'+name)))"
      ],
      "metadata": {
        "id": "2DdxE9IAqW9d"
      },
      "execution_count": null,
      "outputs": []
    },
    {
      "cell_type": "code",
      "source": [
        "num_orig = min(orig_images)\n",
        "num_forg = min(forg_images)\n",
        "tot_people = len(os.listdir('./train'))//2"
      ],
      "metadata": {
        "id": "1hcLx59HqbIk"
      },
      "execution_count": null,
      "outputs": []
    },
    {
      "cell_type": "code",
      "source": [
        "num_train = 100\n",
        "num_validation = 14\n",
        "num_test = 14\n",
        "for name in tqdm(sorted(os.listdir('./train'))):\n",
        "    if num_train > 0:\n",
        "        os.mkdir('train_data/'+name)\n",
        "        if 'forg' in name.lower():\n",
        "            i = num_forg\n",
        "        else:\n",
        "            i = num_orig\n",
        "        for image_name in sorted(os.listdir('./train/'+name)):\n",
        "            if i <= 0:\n",
        "                break\n",
        "            img = cv2.imread('./train/'+name+'/'+image_name)\n",
        "            img_gray = cv2.cvtColor(img, cv2.COLOR_BGR2GRAY)\n",
        "            img_resized = cv2.resize(img_gray, (mean_width, mean_height))\n",
        "            cv2.imwrite('train_data/'+name+'/'+image_name, img_resized)\n",
        "            i -= 1\n",
        "        num_train -= 1\n",
        "    elif num_validation > 0:\n",
        "        os.mkdir('validation_data/'+name)\n",
        "        if 'forg' in name.lower():\n",
        "            i = num_forg\n",
        "        else:\n",
        "            i = num_orig\n",
        "        for image_name in sorted(os.listdir('./train/'+name)):\n",
        "            if i <= 0:\n",
        "                break\n",
        "            img = cv2.imread('./train/'+name+'/'+image_name)\n",
        "            img_gray = cv2.cvtColor(img, cv2.COLOR_BGR2GRAY)\n",
        "            img_resized = cv2.resize(img_gray, (mean_width, mean_height))\n",
        "            cv2.imwrite('validation_data/'+name+'/'+image_name, img_resized)\n",
        "            i -= 1\n",
        "        num_validation -= 1\n",
        "    elif num_test > 0:\n",
        "        os.mkdir('test_data/'+name)\n",
        "        if 'forg' in name.lower():\n",
        "            i = num_forg\n",
        "        else:\n",
        "            i = num_orig\n",
        "        for image_name in sorted(os.listdir('./train/'+name)):\n",
        "            if i <= 0:\n",
        "                break\n",
        "            img = cv2.imread('./train/'+name+'/'+image_name)\n",
        "            img_gray = cv2.cvtColor(img, cv2.COLOR_BGR2GRAY)\n",
        "            img_resized = cv2.resize(img_gray, (mean_width, mean_height))\n",
        "            cv2.imwrite('test_data/'+name+'/'+image_name, img_resized)\n",
        "            i -= 1\n",
        "        num_test -= 1"
      ],
      "metadata": {
        "id": "dtekyG9mqqiU"
      },
      "execution_count": null,
      "outputs": []
    }
  ]
}